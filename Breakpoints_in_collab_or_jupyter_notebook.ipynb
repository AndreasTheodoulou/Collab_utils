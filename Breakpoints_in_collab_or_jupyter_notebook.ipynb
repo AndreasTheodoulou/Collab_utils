{
  "nbformat": 4,
  "nbformat_minor": 0,
  "metadata": {
    "colab": {
      "name": "Breakpoints in collab or jupyter notebook.ipynb",
      "provenance": [],
      "authorship_tag": "ABX9TyPqVso5WYZQcrikTBRzfEaP",
      "include_colab_link": true
    },
    "kernelspec": {
      "name": "python3",
      "display_name": "Python 3"
    }
  },
  "cells": [
    {
      "cell_type": "markdown",
      "metadata": {
        "id": "view-in-github",
        "colab_type": "text"
      },
      "source": [
        "<a href=\"https://colab.research.google.com/github/AndreasTheodoulou/Collab_utils/blob/master/Breakpoints_in_collab_or_jupyter_notebook.ipynb\" target=\"_parent\"><img src=\"https://colab.research.google.com/assets/colab-badge.svg\" alt=\"Open In Colab\"/></a>"
      ]
    },
    {
      "cell_type": "markdown",
      "metadata": {
        "id": "rSqZfVXDOxm_",
        "colab_type": "text"
      },
      "source": [
        "# Using breakpoints in a collab or jupyter notebook\n",
        "\n",
        "A demonstration using pdb library."
      ]
    },
    {
      "cell_type": "markdown",
      "metadata": {
        "id": "LSa4Cso3NddL",
        "colab_type": "text"
      },
      "source": [
        "# Essential pdb Commands\n",
        "Once you’ve spent a little time with pdb, you’ll realize a little knowledge goes a long way. Help is always available with the h command.\n",
        "\n",
        "Just enter h or help <topic> to get a list of all commands or help for a specific command or topic.\n",
        "\n",
        "For quick reference, here’s a list of essential commands:\n",
        "\n",
        "Command\tDescription\n",
        "* p\t- Print the value of an expression.\n",
        "* pp - Pretty-print the value of an expression.\n",
        "* n\tContinue execution until the next line in the current function is reached or it returns.\n",
        "* s\t- Execute the current line and stop at the first possible occasion (either in a function that is called or in the current function).\n",
        "* c\t- Continue execution and only stop when a breakpoint is encountered.\n",
        "unt\tContinue execution until the line with a number greater than the current one is reached. With a line number argument, continue execution until a line with a number greater or equal to that is reached.\n",
        "* l\t- List source code for the current file. Without arguments, list 11 lines around the current line or continue the previous listing.\n",
        "* ll - List the whole source code for the current function or frame.\n",
        "* b\t- With no arguments, list all breaks. With a line number argument, set a breakpoint at this line in the current file.\n",
        "* w\t- Print a stack trace, with the most recent frame at the bottom. An arrow indicates the current frame, which determines the context of most commands.\n",
        "* u\t- Move the current frame count (default one) levels up in the stack trace (to an older frame).\n",
        "* d\t- Move the current frame count (default one) levels down in the stack trace (to a newer frame).\n",
        "* h\t- See a list of available commands.\n",
        "* h - <topic>\tShow help for a command or topic.\n",
        "* h - pdb\tShow the full pdb documentation.\n",
        "* q\t- Quit the debugger and exit.\n",
        "\n",
        "Source and more info: https://realpython.com/python-debugging-pdb/"
      ]
    },
    {
      "cell_type": "code",
      "metadata": {
        "id": "OckNGEm6MrCm",
        "colab_type": "code",
        "colab": {
          "base_uri": "https://localhost:8080/",
          "height": 357
        },
        "outputId": "035889bb-4203-4bf3-d436-41f55fbd4cde"
      },
      "source": [
        "import pdb\n",
        "a= [3, 2, 1] \n",
        "for item in a:\n",
        "  pdb.set_trace()\n",
        "  print(item)\n",
        "\n",
        "print(a)"
      ],
      "execution_count": 3,
      "outputs": [
        {
          "output_type": "stream",
          "text": [
            "> <ipython-input-3-e63de999cf12>(5)<module>()->None\n",
            "-> print(item)\n",
            "(Pdb) n\n",
            "3\n",
            "> <ipython-input-3-e63de999cf12>(3)<module>()->None\n",
            "-> for item in a:\n",
            "(Pdb) print(a[0] + 1)\n",
            "4\n",
            "(Pdb) print(a)\n",
            "[3, 2, 1]\n",
            "(Pdb) c\n",
            "> <ipython-input-3-e63de999cf12>(5)<module>()->None\n",
            "-> print(item)\n",
            "(Pdb) c\n",
            "2\n",
            "> <ipython-input-3-e63de999cf12>(4)<module>()->None\n",
            "-> pdb.set_trace()\n",
            "(Pdb) c\n",
            "1\n",
            "[3, 2, 1]\n"
          ],
          "name": "stdout"
        }
      ]
    }
  ]
}